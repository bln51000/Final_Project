{
  "nbformat": 4,
  "nbformat_minor": 0,
  "metadata": {
    "colab": {
      "provenance": [],
      "include_colab_link": true
    },
    "kernelspec": {
      "name": "python3",
      "display_name": "Python 3"
    },
    "language_info": {
      "name": "python"
    }
  },
  "cells": [
    {
      "cell_type": "markdown",
      "metadata": {
        "id": "view-in-github",
        "colab_type": "text"
      },
      "source": [
        "<a href=\"https://colab.research.google.com/github/bln51000/Final_Project/blob/main/CSC_2053_Final_Exam.ipynb\" target=\"_parent\"><img src=\"https://colab.research.google.com/assets/colab-badge.svg\" alt=\"Open In Colab\"/></a>"
      ]
    },
    {
      "cell_type": "markdown",
      "source": [
        "Welcome to the CSC 2053 Final Exam - Part Two!\n",
        "\n",
        "**Before** you proceed, make sure your time is set to Python:\n",
        "\n",
        "1.    Go to the menu bar and click Runtime > Change runtime type.\n",
        "2.    Make sure the Runtime type is set to Python 3 and the Hardware accelerator is set to None.\n",
        "3.    Click Save.\n",
        "\n",
        "It's recommended you run one cell at a time.  You may use anything on the internet to help you answer the questions.  Please include the name of the source.  You do not need to specifically include a link.\n",
        "\n",
        "However you solve these functions is fine. There are many approaches to the same result in Python and I will not be particular.\n",
        "\n",
        "# At the end of the exam, download the completed notebook as a .ipynb file.\n",
        "\n",
        "• Click File > Download > Download .ipynb.\n",
        "Then, upload the file to your GitHub Repo.  Make sure the file uploads, and that is all you have to do; you are good to go."
      ],
      "metadata": {
        "id": "RqkSqhmVgCah"
      }
    },
    {
      "cell_type": "markdown",
      "source": [
        "# FIRST - Import your Python Libraries"
      ],
      "metadata": {
        "id": "XtPBqSkLgqrC"
      }
    },
    {
      "cell_type": "code",
      "source": [
        "import pandas as pd\n",
        "import numpy as np\n",
        "import matplotlib.pyplot as plt"
      ],
      "metadata": {
        "id": "9Ysy3mrwgRZr"
      },
      "execution_count": null,
      "outputs": []
    },
    {
      "cell_type": "markdown",
      "source": [
        "Change the variable below to enter your name and ensure that all Python libraries are available for you to use.  If you encounter any trouble, please let the instructor know!"
      ],
      "metadata": {
        "id": "heFvmxWrppkw"
      }
    },
    {
      "cell_type": "code",
      "source": [
        "#@title Enter Your Name\n",
        "student_name = \"Your Name Here\" #@param {type:\"string\"}\n",
        "\n",
        "print(f\"Student Name: {student_name}\")"
      ],
      "metadata": {
        "id": "XsTuioPKppDM"
      },
      "execution_count": null,
      "outputs": []
    },
    {
      "cell_type": "markdown",
      "source": [
        "# Task One - Spread Some Holiday Cheer!\n",
        "\n",
        "Write a function called christmas_cheer that takes a list of radio station call signs (e.g., [\"WNJL\", \"WXVU\", \"WXYC\"]) and returns a list of holiday greetings for each station. Each greeting should be in the format:\n",
        "\n",
        "\"Merry Christmas from {station}!\"\n",
        "\n",
        "**Note that the greetings need to be in a LIST ([])**\n",
        "\n",
        "If your function is working, when you run the cell below, all you should see is:\n",
        "\n",
        "*Task 1 - Test 1 - Correct - Ho Ho Ho*"
      ],
      "metadata": {
        "id": "pX4KkCf6hruE"
      }
    },
    {
      "cell_type": "code",
      "source": [
        "def christmas_cheer(stations):\n",
        "    \"\"\"\n",
        "    Takes a list of radio station call signs and returns a list of holiday cheers for each station.\n",
        "    \"\"\"\n",
        "    return\n",
        "\n",
        "# Test cases for the function\n",
        "result = christmas_cheer([\"WNJL\", \"WXVU\", \"WXYC\"])\n",
        "assert result == [\n",
        "    \"Merry Christmas from WNJL!\",\n",
        "    \"Merry Christmas from WXVU!\",\n",
        "    \"Merry Christmas from WXYC!\",\n",
        "], \"Test failed: Cheers not in expected format\"\n",
        "print(\"Task 1 - Test 1 - Ho Ho Ho\")\n"
      ],
      "metadata": {
        "id": "FNh-HC82i8iT"
      },
      "execution_count": null,
      "outputs": []
    },
    {
      "cell_type": "markdown",
      "source": [
        "# Task Two - New Hampshire Radio Analysis\n",
        "\n",
        "Similar to our lab and homework in class, the task here is to import the New Hampshire radio station dataset that is provided for you online.\n",
        "\n",
        "There are three questions total here.\n",
        "\n",
        "The first two questions, you'll need to provide code for yoru answers and simply print the results.  There are no tests to run.\n",
        "\n",
        "For the third graph, the code is already provided.  Just run the cell to ensure a graph is produced.\n",
        "\n",
        "For your reference, the names of the columns in the dataset are as follows:\n",
        "\n",
        "\t1.\tfrequency\n",
        "\t2.\tcallsign\n",
        "\t3.\tcity\n",
        "\t4.\tsp\n",
        "\t5.\tantenna_type\n",
        "\t6.\tpower\n",
        "\t7.\tlat\n",
        "\t8.\tlon\n",
        "\t9.\tclass\n",
        "\t10.\tslogan\n",
        "\t11.\thaat\n",
        "\t12.\towner\n",
        "\t13.\tformat\n",
        "\t14.\tmarket"
      ],
      "metadata": {
        "id": "OUkcXqMevriu"
      }
    },
    {
      "cell_type": "markdown",
      "source": [
        "*First, ensure the data is imported*"
      ],
      "metadata": {
        "id": "qL87SKxvwK9x"
      }
    },
    {
      "cell_type": "code",
      "source": [
        "# Replace with the raw URL of your CSV file\n",
        "url = \"https://raw.githubusercontent.com/W2NJL/final_colab/refs/heads/main/fcc_db_NH_selected.csv\"\n",
        "\n",
        "# Load the CSV into a DataFrame\n",
        "df = pd.read_csv(url)\n",
        "\n",
        "# Display the first few rows of the DataFrame\n",
        "print(df.head())"
      ],
      "metadata": {
        "id": "HHIvimKHssz8"
      },
      "execution_count": null,
      "outputs": []
    },
    {
      "cell_type": "markdown",
      "source": [
        " 1. **In the cell below, print the stations in the dataframe, df, with the 10 highest haat  values, sorted greatest to least. If correct, your result should start with:**\n",
        "\n",
        "\n",
        "\n",
        "> 103.7\tWPKQ\tNORTH CONWAY\n",
        "\n",
        "> 94.9\tWHOM\tMOUNT WASHINGTON\n",
        "\n",
        "\n",
        "\n",
        "\n",
        "\n",
        "\n",
        "\n"
      ],
      "metadata": {
        "id": "5m9AWdsowRyx"
      }
    },
    {
      "cell_type": "code",
      "source": [
        "### Insert your code for the highest haat values here ###"
      ],
      "metadata": {
        "id": "JSCjUUufwWoc"
      },
      "execution_count": null,
      "outputs": []
    },
    {
      "cell_type": "markdown",
      "source": [
        " 2. **In the cell below, print the value counts of the market column in the New Hampshire dataset.  If successful, your output should start with:**\n",
        "\n",
        "\n",
        "\n",
        "\n",
        "\n",
        "> Lebanon-Hanover-White River Junction 36\n",
        "\n",
        "\n",
        "\n",
        "\n"
      ],
      "metadata": {
        "id": "86_Yoyt5wZ-m"
      }
    },
    {
      "cell_type": "code",
      "source": [
        "### Insert your code for the value counts of the markets here ###"
      ],
      "metadata": {
        "id": "kqbR6G7lyemT"
      },
      "execution_count": null,
      "outputs": []
    },
    {
      "cell_type": "markdown",
      "source": [
        " 3. **In the cell below, print the value counts of the format column in the New Hampshire dataset.\n",
        "\n",
        " Make sure to name your variable **nh_format_counts**, as it will impact whether or not your graph appears in the last question.\n",
        "\n",
        "\n",
        "   If successful, your output should start with:**\n",
        "\n",
        "\n",
        "\n",
        "\n",
        "\n",
        "> News/Talk\t18"
      ],
      "metadata": {
        "id": "IhspNo320Ui6"
      }
    },
    {
      "cell_type": "code",
      "source": [
        "### Insert your code for the value counts of the formats here ###"
      ],
      "metadata": {
        "id": "y6W7kMhH2i5H"
      },
      "execution_count": null,
      "outputs": []
    },
    {
      "cell_type": "code",
      "source": [
        "plt.figure(figsize=(10, 6))\n",
        "nh_format_counts.plot(kind='bar')\n",
        "plt.title('Most Common Broadcast Formats in New Hampshire')\n",
        "plt.xlabel('Broadcast Format')\n",
        "plt.ylabel('Number of Stations')\n",
        "plt.xticks(rotation=45, ha='right')\n",
        "plt.tight_layout()\n",
        "plt.show()"
      ],
      "metadata": {
        "id": "q4yu4RAhyDwO"
      },
      "execution_count": null,
      "outputs": []
    },
    {
      "cell_type": "markdown",
      "source": [
        "# End of exam!\n",
        "\n",
        "To submit your final:\n",
        "\n",
        "**Click File > Download > Download .ipynb.**\n",
        "Then, upload the file to your GitHub Repo that GitHub Classroom created.  Make sure the file uploads, and that is all you have to do; you are good to go."
      ],
      "metadata": {
        "id": "ULURdY2Xs-Oz"
      }
    }
  ]
}